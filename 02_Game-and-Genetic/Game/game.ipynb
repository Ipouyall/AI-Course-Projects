{
 "cells": [
  {
   "attachments": {},
   "cell_type": "markdown",
   "metadata": {
    "collapsed": false
   },
   "source": [
    "**Pouya Sadeghi**\n",
    "\n",
    "fall-1401(2022)"
   ]
  },
  {
   "attachments": {},
   "cell_type": "markdown",
   "metadata": {},
   "source": [
    "# AI course, project #2.2\n",
    "\n",
    "Adversarial Search(Game)"
   ]
  },
  {
   "attachments": {},
   "cell_type": "markdown",
   "metadata": {},
   "source": [
    "# 01.Description"
   ]
  },
  {
   "attachments": {},
   "cell_type": "markdown",
   "metadata": {},
   "source": [
    "## Goals:\n",
    "\n",
    "getting familiar with:\n",
    "- player agents\n",
    "- adversarial games algorithms\n",
    "- $\\alpha$-$\\beta$ pruning"
   ]
  },
  {
   "attachments": {},
   "cell_type": "markdown",
   "metadata": {},
   "source": [
    "## Game:\n",
    "\n",
    "In this game, each player chooses a line segment from the complete graph;\n",
    "\n",
    "By creating the first triangle of the same color, the player who created it, loses.\n",
    "\n",
    "In this implementation, we are agent `Red` and opponent is `Blue`"
   ]
  },
  {
   "attachments": {},
   "cell_type": "markdown",
   "metadata": {},
   "source": [
    "# 02.Initialization"
   ]
  },
  {
   "cell_type": "code",
   "execution_count": 1,
   "metadata": {
    "collapsed": false
   },
   "outputs": [
    {
     "name": "stdout",
     "output_type": "stream",
     "text": [
      "Requirement already satisfied: tqdm in /Library/Frameworks/Python.framework/Versions/3.11/lib/python3.11/site-packages (4.64.1)\r\n",
      "Note: you may need to restart the kernel to use updated packages.\n"
     ]
    }
   ],
   "source": [
    "%pip install tqdm"
   ]
  },
  {
   "cell_type": "code",
   "execution_count": 2,
   "metadata": {},
   "outputs": [],
   "source": [
    "import sim\n",
    "from timeit import default_timer\n",
    "from tqdm import tqdm"
   ]
  },
  {
   "attachments": {},
   "cell_type": "markdown",
   "metadata": {},
   "source": [
    "## Utils"
   ]
  },
  {
   "cell_type": "code",
   "execution_count": 3,
   "metadata": {
    "collapsed": false
   },
   "outputs": [],
   "source": [
    "def calculate_wining_chance(repeat=200, depth=2, pruning=False):\n",
    "    results = {\"red\": 0, \"blue\": 0}\n",
    "    game = sim.Sim(minimax_depth=depth, prune=pruning, gui=False)\n",
    "    st = default_timer()\n",
    "    for _ in tqdm(range(repeat)):\n",
    "        results[game.play_game()] += 1\n",
    "    end = default_timer()\n",
    "\n",
    "    print(f\"Results for depth={depth} {'with alpha-beta' if pruning else 'without'} pruning\")\n",
    "    print(f\"- chance to win: {100*results['red']/repeat:.1f}%\")\n",
    "    print(f\"- average round time: {1000*(end-st)/repeat:.3f} (ms)\")\n",
    "    print(f\"- number of win: {results['red']}\")\n",
    "    print(f\"- number of loss: {results['blue']}\")\n",
    "\n"
   ]
  },
  {
   "attachments": {},
   "cell_type": "markdown",
   "metadata": {},
   "source": [
    "# 03.Player Agent:\n",
    "\n"
   ]
  },
  {
   "attachments": {},
   "cell_type": "markdown",
   "metadata": {},
   "source": [
    "## Algorithm:\n",
    "\n",
    "1. MiniMax algorithm to find the best moves till specified depth.\n",
    "2. Using $\\alpha$-$\\beta$ pruning and see the differences.\n",
    "\n",
    "We assign an score for win/lose/draw state.\n",
    "\n",
    "If we reached our depth-limit and a triangle wasn't formed yet, we use `heuristic` to assign a value to that state."
   ]
  },
  {
   "attachments": {},
   "cell_type": "markdown",
   "metadata": {},
   "source": [
    "### heuristic:\n",
    "\n",
    "for our heuristic(evaluate) function, we consider all valid remained moves and greedy remained moved(act as we consider sensitive situations/positions)."
   ]
  },
  {
   "attachments": {},
   "cell_type": "markdown",
   "metadata": {},
   "source": [
    "## How to select a child from the search tree:\n",
    "\n",
    "By getting child-states of the current state."
   ]
  },
  {
   "attachments": {},
   "cell_type": "markdown",
   "metadata": {},
   "source": [
    "### how to improve that:\n",
    "\n",
    "We use ordering and define two class for our movements:\n",
    "- greedy: try to force competitor to make a triangle and won't choose line segment between competitor's angles.\n",
    "- helping: other possible choices that may not lead to our loss.\n",
    "\n",
    "First, we try to choose from greedy moves, then we would continue with remained valid moves"
   ]
  },
  {
   "attachments": {},
   "cell_type": "markdown",
   "metadata": {
    "collapsed": false
   },
   "source": [
    "# 04.Experiment"
   ]
  },
  {
   "cell_type": "markdown",
   "metadata": {
    "collapsed": false
   },
   "source": [
    "## No pruning"
   ]
  },
  {
   "cell_type": "code",
   "execution_count": 4,
   "metadata": {
    "collapsed": false
   },
   "outputs": [
    {
     "name": "stderr",
     "output_type": "stream",
     "text": [
      "100%|██████████| 200/200 [00:00<00:00, 1075.70it/s]"
     ]
    },
    {
     "name": "stdout",
     "output_type": "stream",
     "text": [
      "Results for depth=1 without pruning\n",
      "- chance to win: 98.5%\n",
      "- average round time: 0.991 (ms)\n",
      "- number of win: 197\n",
      "- number of loss: 3\n"
     ]
    },
    {
     "name": "stderr",
     "output_type": "stream",
     "text": [
      "\n"
     ]
    }
   ],
   "source": [
    "calculate_wining_chance(depth=1, pruning=False, repeat=200)"
   ]
  },
  {
   "cell_type": "code",
   "execution_count": 5,
   "metadata": {
    "collapsed": false
   },
   "outputs": [
    {
     "name": "stderr",
     "output_type": "stream",
     "text": [
      "100%|██████████| 200/200 [00:14<00:00, 13.41it/s]"
     ]
    },
    {
     "name": "stdout",
     "output_type": "stream",
     "text": [
      "Results for depth=3 without pruning\n",
      "- chance to win: 99.5%\n",
      "- average round time: 74.598 (ms)\n",
      "- number of win: 199\n",
      "- number of loss: 1\n"
     ]
    },
    {
     "name": "stderr",
     "output_type": "stream",
     "text": [
      "\n"
     ]
    }
   ],
   "source": [
    "calculate_wining_chance(depth=3, pruning=False, repeat=200)"
   ]
  },
  {
   "cell_type": "code",
   "execution_count": 6,
   "metadata": {
    "collapsed": false
   },
   "outputs": [
    {
     "name": "stderr",
     "output_type": "stream",
     "text": [
      "100%|██████████| 200/200 [21:40<00:00,  6.50s/it]"
     ]
    },
    {
     "name": "stdout",
     "output_type": "stream",
     "text": [
      "Results for depth=5 without pruning\n",
      "- chance to win: 98.5%\n",
      "- average round time: 6502.485 (ms)\n",
      "- number of win: 197\n",
      "- number of loss: 3\n"
     ]
    },
    {
     "name": "stderr",
     "output_type": "stream",
     "text": [
      "\n"
     ]
    }
   ],
   "source": [
    "calculate_wining_chance(depth=5, pruning=False, repeat=200)"
   ]
  },
  {
   "cell_type": "markdown",
   "metadata": {
    "collapsed": false
   },
   "source": [
    "## By pruning"
   ]
  },
  {
   "cell_type": "code",
   "execution_count": 7,
   "metadata": {
    "collapsed": false
   },
   "outputs": [
    {
     "name": "stderr",
     "output_type": "stream",
     "text": [
      "100%|██████████| 200/200 [00:00<00:00, 1209.33it/s]"
     ]
    },
    {
     "name": "stdout",
     "output_type": "stream",
     "text": [
      "Results for depth=1 with alpha-beta pruning\n",
      "- chance to win: 99.5%\n",
      "- average round time: 0.836 (ms)\n",
      "- number of win: 199\n",
      "- number of loss: 1\n"
     ]
    },
    {
     "name": "stderr",
     "output_type": "stream",
     "text": [
      "\n"
     ]
    }
   ],
   "source": [
    "calculate_wining_chance(depth=1, pruning=True, repeat=200)"
   ]
  },
  {
   "cell_type": "code",
   "execution_count": 8,
   "metadata": {
    "collapsed": false
   },
   "outputs": [
    {
     "name": "stderr",
     "output_type": "stream",
     "text": [
      "100%|██████████| 200/200 [00:02<00:00, 76.22it/s]"
     ]
    },
    {
     "name": "stdout",
     "output_type": "stream",
     "text": [
      "Results for depth=3 with alpha-beta pruning\n",
      "- chance to win: 99.0%\n",
      "- average round time: 13.124 (ms)\n",
      "- number of win: 198\n",
      "- number of loss: 2\n"
     ]
    },
    {
     "name": "stderr",
     "output_type": "stream",
     "text": [
      "\n"
     ]
    }
   ],
   "source": [
    "calculate_wining_chance(depth=3, pruning=True, repeat=200)"
   ]
  },
  {
   "cell_type": "code",
   "execution_count": 9,
   "metadata": {
    "collapsed": false
   },
   "outputs": [
    {
     "name": "stderr",
     "output_type": "stream",
     "text": [
      "100%|██████████| 200/200 [00:35<00:00,  5.71it/s]"
     ]
    },
    {
     "name": "stdout",
     "output_type": "stream",
     "text": [
      "Results for depth=5 with alpha-beta pruning\n",
      "- chance to win: 99.5%\n",
      "- average round time: 175.149 (ms)\n",
      "- number of win: 199\n",
      "- number of loss: 1\n"
     ]
    },
    {
     "name": "stderr",
     "output_type": "stream",
     "text": [
      "\n"
     ]
    }
   ],
   "source": [
    "calculate_wining_chance(depth=5, pruning=True, repeat=200)"
   ]
  },
  {
   "cell_type": "code",
   "execution_count": 10,
   "metadata": {
    "collapsed": false
   },
   "outputs": [
    {
     "name": "stderr",
     "output_type": "stream",
     "text": [
      "100%|██████████| 200/200 [05:05<00:00,  1.53s/it]"
     ]
    },
    {
     "name": "stdout",
     "output_type": "stream",
     "text": [
      "Results for depth=7 with alpha-beta pruning\n",
      "- chance to win: 99.0%\n",
      "- average round time: 1527.218 (ms)\n",
      "- number of win: 198\n",
      "- number of loss: 2\n"
     ]
    },
    {
     "name": "stderr",
     "output_type": "stream",
     "text": [
      "\n"
     ]
    }
   ],
   "source": [
    "calculate_wining_chance(depth=7, pruning=True, repeat=200)"
   ]
  },
  {
   "attachments": {},
   "cell_type": "markdown",
   "metadata": {
    "collapsed": false
   },
   "source": [
    "# 05.Discussion"
   ]
  },
  {
   "attachments": {},
   "cell_type": "markdown",
   "metadata": {
    "collapsed": false
   },
   "source": [
    "## 01. what are the features of a good heuristic? why did choose this heuristic?\n",
    "\n",
    "Features of a good heuristic:\n",
    "- a good heuristic should be able to predict close to reality(guess the win or loss ahead of time).\n",
    "- able to identify states that provide a better situation for us(assign higher score to them).\n",
    "\n",
    "\n",
    "The winning aspect of our heuristic:\n",
    "- considering number of valid move remained for us(try to postpone the loss, if we don't have winning strategy).\n",
    "- in addition to paying attention to having moves to play for the future, tries to make things difficult for opponent.\n"
   ]
  },
  {
   "attachments": {},
   "cell_type": "markdown",
   "metadata": {},
   "source": [
    "## 02. What is the effect of the depth of the algorithm on the chance of winning, time and explored states?\n",
    "\n",
    "On the chance of winning:\n",
    "- increases the chance of winning, due to strategy determination for more number of moves.\n",
    "- we expect to see winning chance improved by higher depth, but sometimes we may see a different behavior due to randomized opponent(not optimal).\n",
    "\n",
    "On the execution time:\n",
    "- increases the execution time because of having more states to explore.\n",
    "\n",
    "On the explored stated:\n",
    "- $O(b^d)$ is the order of explored state (*b* is branching factor and *d* is depth); so, by increasing depth, number of explored states would increase."
   ]
  },
  {
   "attachments": {},
   "cell_type": "markdown",
   "metadata": {},
   "source": [
    "## 03. When we use pruning, what is the order of exploring the children of each state? Does this order matter? Why is this arrangement used?\n",
    "\n",
    "As mentioned before, we defined two class of children for each state: *greedy* and *helping*;\n",
    "- greedy: they care about potential opponent's triangles and keep the opponents's chance of creating a triangle(try to decrease opponent valid moves).\n",
    "- helping: rest of valid moves.\n",
    "\n",
    "We explore helping states after we explored greedy states.\n",
    "\n",
    "We expect that greedy states would be a better choice for us(in case of score);\n",
    "also, in $\\alpha$-$\\beta$ pruning, we define a threshold based on states that explored before, to decide whether to explore the next states or not.\n",
    "\n",
    "In this way, we try to find the best child-state sooner and skip(prune) more children(state).\n",
    "\n",
    "This ordering plays important role to making our agent with enabled $\\alpha$-$\\beta$ pruning faster;\n",
    "but it doesn't play an important role is speed when it is disabled."
   ]
  }
 ],
 "metadata": {
  "kernelspec": {
   "display_name": "Python 3.9.9 64-bit",
   "language": "python",
   "name": "python3"
  },
  "language_info": {
   "codemirror_mode": {
    "name": "ipython",
    "version": 3
   },
   "file_extension": ".py",
   "mimetype": "text/x-python",
   "name": "python",
   "nbconvert_exporter": "python",
   "pygments_lexer": "ipython3",
   "version": "3.9.9"
  },
  "vscode": {
   "interpreter": {
    "hash": "bb77900ac261ca678ea7455fb799b281fc90b1c24eb1069033180902b8808b8a"
   }
  }
 },
 "nbformat": 4,
 "nbformat_minor": 0
}
