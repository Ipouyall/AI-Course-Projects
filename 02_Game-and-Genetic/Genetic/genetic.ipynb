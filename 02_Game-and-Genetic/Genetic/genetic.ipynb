{
 "cells": [
  {
   "attachments": {},
   "cell_type": "markdown",
   "metadata": {
    "collapsed": false
   },
   "source": [
    "**Pouya Sadeghi**\n",
    "\n",
    "fall-1401(2022)"
   ]
  },
  {
   "attachments": {},
   "cell_type": "markdown",
   "metadata": {
    "collapsed": false
   },
   "source": [
    "# AI course, project #2.1\n",
    "**Genetic Algorithms**"
   ]
  },
  {
   "cell_type": "markdown",
   "metadata": {
    "collapsed": false
   },
   "source": [
    "# 01.Description"
   ]
  },
  {
   "cell_type": "markdown",
   "metadata": {},
   "source": [
    "## Problem definition \n",
    "\n",
    "Given allowed operators and operand and equation-length\n",
    "\n",
    "(which contains of $(len-1)/2$ operators and $(len+1)/2$ operands)\n",
    "\n",
    "and target result, asking for equation than satisfy problem condition."
   ]
  },
  {
   "cell_type": "markdown",
   "metadata": {},
   "source": [
    "## Chromosomes\n",
    "\n",
    "We define chromosomes as a collection of genes, consists of operand and operators;\n",
    "each chromosome is a sequence of genes that make an equation.\n",
    "\n",
    "Example:\n",
    "- len(eq) = 11\n",
    "- operands = [1, 2, 3, 4, 5, 6]\n",
    "- operators = [+, /, -]\n",
    "\n",
    "sample chromosome $->$ (1, +, 2, /, 5, -, 9, +, 3, +, 6,)\n",
    "$=>$ $1+2/5-9+3+6=1$\n"
   ]
  },
  {
   "cell_type": "markdown",
   "metadata": {},
   "source": [
    "## Hyper-parameters\n"
   ]
  },
  {
   "cell_type": "markdown",
   "metadata": {},
   "source": [
    "### population size\n",
    "\n",
    "We use this parameter either for first-initial-population and for generate some new random population in each iteration\n",
    "\n",
    "    (it determine number of population for the beginning of each generation)"
   ]
  },
  {
   "cell_type": "markdown",
   "metadata": {},
   "source": [
    "### carry percentage\n",
    "\n",
    "Determine the ratio of population sorted by fitness that go straight to the next generation"
   ]
  },
  {
   "cell_type": "markdown",
   "metadata": {},
   "source": [
    "### crossover probability\n",
    "\n",
    "Determine the ration of mating-pool that would crossovers"
   ]
  },
  {
   "cell_type": "markdown",
   "metadata": {},
   "source": [
    "### generate new population rate\n",
    "\n",
    "We will add ($PopulationSize * GenerateNewPopulationRate$) new random population to our current generation population"
   ]
  },
  {
   "attachments": {},
   "cell_type": "markdown",
   "metadata": {},
   "source": [
    "### fitness_termination_threshold\n",
    "\n",
    "If fitness score stuck in a value(couldn't improve) for certain iteration count, we would terminate the process,\n",
    "\n",
    "**Note**: because of straight-forward-population, best fitness of a generation couldn't decrease in next generation."
   ]
  },
  {
   "cell_type": "markdown",
   "metadata": {
    "collapsed": false
   },
   "source": [
    "## fitness\n",
    "\n",
    "We define fitness as $fitness(chromosome) = -|TargetResult - ChromosomeEquationResult|$ \n",
    "\n",
    "With that, all fitnesses are less than or equal to zero and zero fitness is our goal.\n",
    "\n",
    "later, we discuss how we can map this values into positive ones."
   ]
  },
  {
   "cell_type": "markdown",
   "metadata": {},
   "source": [
    "## random population\n",
    "\n",
    "Randomly generating sequence of $operand1[i], operator[j], operand[k], ...$ \n",
    "by choosing random operand and operator"
   ]
  },
  {
   "cell_type": "markdown",
   "metadata": {},
   "source": [
    "## Next Generation\n",
    "\n",
    "In each iteration, we:\n",
    "- extend population using random chromosomes and shuffle hole population\n",
    "- calculate *fitness* and send certain population straight to next generation\n",
    "- create mating pool:\n",
    "    - respect higher fitness by increasing their population\n",
    "    - peak random sample of size $DesiredPopulation - StraightToNextGeneration$\n",
    "- crossover population with $P(CrossoverProbability)$\n",
    "    - they would crossover or remain the same\n",
    "- mutate some gene of each chromosome randomly"
   ]
  },
  {
   "cell_type": "markdown",
   "metadata": {},
   "source": [
    "### crossover\n",
    "\n",
    "for each chromosome:\n",
    "- choose random partner\n",
    "- select some gene by their position randomly\n",
    "- swap parents genes\n",
    "- add chromosome with higher *fitness* to crossover pool"
   ]
  },
  {
   "cell_type": "markdown",
   "metadata": {},
   "source": [
    "### mutation\n",
    "\n",
    "for each chromosome:\n",
    "- choose random gene(s) for mutation\n",
    "- for each selected gene:\n",
    "    - if $type(gene) == operand$\n",
    "        choose random operand to replace with\n",
    "    - if $type(gene) == operator$\n",
    "        choose random operator to replace with"
   ]
  },
  {
   "cell_type": "code",
   "execution_count": 1,
   "metadata": {},
   "outputs": [],
   "source": [
    "import genetic"
   ]
  },
  {
   "cell_type": "markdown",
   "metadata": {},
   "source": [
    "# 02.Equation\n",
    "\n",
    "define our desired equation"
   ]
  },
  {
   "cell_type": "code",
   "execution_count": 2,
   "metadata": {},
   "outputs": [],
   "source": [
    "equation = genetic.Equation(\n",
    "    operands=[1, 2, 3, 4, 5, 6, 7, 8],\n",
    "    operators=['+', '-', '*'],\n",
    "    length=21,\n",
    "    result=18019\n",
    "    )"
   ]
  },
  {
   "cell_type": "markdown",
   "metadata": {},
   "source": [
    "# 03.EquationBuilder"
   ]
  },
  {
   "cell_type": "markdown",
   "metadata": {},
   "source": [
    "## generate agent for our problem"
   ]
  },
  {
   "cell_type": "code",
   "execution_count": 3,
   "metadata": {},
   "outputs": [],
   "source": [
    "agent = genetic.EquationBuilder(\n",
    "    equation,\n",
    ")"
   ]
  },
  {
   "cell_type": "markdown",
   "metadata": {},
   "source": [
    "## configuration\n",
    "\n",
    "we can configure agent hyper-parameter\n",
    "\n",
    "this parameters are the same for agents"
   ]
  },
  {
   "cell_type": "markdown",
   "metadata": {},
   "source": [
    "## check configs"
   ]
  },
  {
   "cell_type": "code",
   "execution_count": 4,
   "metadata": {},
   "outputs": [
    {
     "data": {
      "text/plain": [
       "{'crossover_probability': 0.8,\n",
       " 'carry_percentage': 0.25,\n",
       " 'population_size': 800,\n",
       " 'generate_new_population_rate': 0.1,\n",
       " 'fitness_termination_threshold': 60}"
      ]
     },
     "execution_count": 4,
     "metadata": {},
     "output_type": "execute_result"
    }
   ],
   "source": [
    "agent.get_config()"
   ]
  },
  {
   "cell_type": "markdown",
   "metadata": {},
   "source": [
    "# 04.Find Equation"
   ]
  },
  {
   "cell_type": "code",
   "execution_count": 5,
   "metadata": {},
   "outputs": [],
   "source": [
    "built_equation, iteration = agent.find_equation()"
   ]
  },
  {
   "cell_type": "code",
   "execution_count": 6,
   "metadata": {},
   "outputs": [
    {
     "name": "stdout",
     "output_type": "stream",
     "text": [
      "Equation: 5 + 2 * 6 + 3 * 5 * 4 * 6 * 5 * 5 * 2 + 2\n"
     ]
    }
   ],
   "source": [
    "if built_equation is None:\n",
    "    print(\"Equation: Not Found\")\n",
    "else:\n",
    "    print(f\"Equation: {' '.join(built_equation)}\")"
   ]
  },
  {
   "cell_type": "markdown",
   "metadata": {},
   "source": [
    "## check built equation"
   ]
  },
  {
   "cell_type": "code",
   "execution_count": 7,
   "metadata": {},
   "outputs": [
    {
     "name": "stdout",
     "output_type": "stream",
     "text": [
      "Agent solved problem correctly in 44 iterations\n"
     ]
    }
   ],
   "source": [
    "if equation.is_satisfied(built_equation):\n",
    "    print(f\"Agent solved problem correctly in {iteration} iterations\")\n",
    "else:\n",
    "    print(\"Agent failed\")"
   ]
  },
  {
   "cell_type": "markdown",
   "metadata": {},
   "source": [
    "# 05.Discussion"
   ]
  },
  {
   "cell_type": "markdown",
   "metadata": {
    "collapsed": false
   },
   "source": [
    "## 01. pros and cons of high/low population?\n",
    "\n",
    "- high population:\n",
    "    - pros:\n",
    "        1. we could find a solution in less iteration\n",
    "        2. wide diversity\n",
    "    - cons:\n",
    "        1. each iteration would be longer\n",
    "        2. total run time might increase because of each iteration time\n",
    "- low population:\n",
    "    - pros:\n",
    "        1. population generation would be faster\n",
    "        2. each iteration would be shorter\n",
    "    - cons:\n",
    "        1. we need more iteration to find a solution\n",
    "        2. limited diversity\n",
    "        3. total rum time would increase due to more iteration"
   ]
  },
  {
   "cell_type": "markdown",
   "metadata": {},
   "source": [
    "## 02.what happens if population increase in each iteration?\n",
    "\n",
    "*Accuracy*: due to increased diversity, would increase\n",
    "\n",
    "*Speed*: due to computation increment, would decrease"
   ]
  },
  {
   "cell_type": "markdown",
   "metadata": {},
   "source": [
    "## 03.compare crossover and mutation. can only one of them be used?\n",
    "\n",
    "mutation :\n",
    "- would change chromosomes randomly\n",
    "- prevents bias\n",
    "- using it alone is like try all possible scenarios (and decrease speed)\n",
    "\n",
    "crossover:\n",
    "- could cause orientation\n",
    "- it's not guaranteed that it can find a solution on its own\n",
    "\n",
    "In GAs, crossover would increase speed and mutation would increase accuracy\n",
    "\n"
   ]
  },
  {
   "cell_type": "markdown",
   "metadata": {},
   "source": [
    "## 04.how could we increase speed in this problem?\n",
    "\n",
    "- add random population in each iteration (or some of them) and prevent from orientation (bias)\n",
    "- increase crossover probability (up to a threshold)\n",
    "- increase `straight_to_next_generation` (up to a threshold, because it can cause orientation and cause difficulty finding a solution)\n",
    "- use a suitable *fitness-function* (chromosomes score could help us in other parts, like what happened in `_make_mating_pool`)\n",
    "- pay attention to mating-pool creation (how to create this pool and its parameter)"
   ]
  },
  {
   "attachments": {},
   "cell_type": "markdown",
   "metadata": {},
   "source": [
    "## 05.what if after some iteration the chromosomes no longer change? how could you solve that?\n",
    "\n",
    "In this situation we aren't able to find a solution if we haven't yet.\n",
    "\n",
    "To solve this:\n",
    "- we generate some random chromosome in each iteration\n",
    "- via mutation, we try to generate better random chromosome(to avoid it)\n",
    "- as another approach, we could define a max-ratio for mutation, by getting close to the program termination (due to the lack of fitness), we increase this ratio\n"
   ]
  },
  {
   "cell_type": "markdown",
   "metadata": {},
   "source": [
    "## 06.how to terminate the program if there is no answer th the problem?\n",
    "\n",
    "Three class of solutions can be imagined:\n",
    "- Decisive approach (not flexible):\n",
    "    - set an alert to terminate program after a while\n",
    "- semi-flexible (flexible threshold):\n",
    "    - set a deadline and after passing that, let current iteration to finish and then terminate ✔\n",
    "    - set a specific amount of iteration ✔\n",
    "- flexible:\n",
    "    - terminate if fitness doesn't improved ✅\n",
    "    - terminate if an unobserved population can't be created\n",
    "\n",
    "We can control our algorithm with those options specified above.\n",
    "\n",
    "By default, the flexible approach would apply (you could change repetition limit in config); other semi-flexible approaches are available and ready to use."
   ]
  }
 ],
 "metadata": {
  "kernelspec": {
   "display_name": "Python 3.9.9 64-bit",
   "language": "python",
   "name": "python3"
  },
  "language_info": {
   "codemirror_mode": {
    "name": "ipython",
    "version": 2
   },
   "file_extension": ".py",
   "mimetype": "text/x-python",
   "name": "python",
   "nbconvert_exporter": "python",
   "pygments_lexer": "ipython2",
   "version": "3.9.9"
  },
  "vscode": {
   "interpreter": {
    "hash": "bb77900ac261ca678ea7455fb799b281fc90b1c24eb1069033180902b8808b8a"
   }
  }
 },
 "nbformat": 4,
 "nbformat_minor": 0
}
